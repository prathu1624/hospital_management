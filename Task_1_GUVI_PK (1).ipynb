{
  "nbformat": 4,
  "nbformat_minor": 0,
  "metadata": {
    "colab": {
      "provenance": []
    },
    "kernelspec": {
      "name": "python3",
      "display_name": "Python 3"
    },
    "language_info": {
      "name": "python"
    }
  },
  "cells": [
    {
      "cell_type": "markdown",
      "source": [
        "Taks 1 for GUVI DS By Prathamesh Kadam"
      ],
      "metadata": {
        "id": "MVuOVP-3OzPI"
      }
    },
    {
      "cell_type": "code",
      "source": [
        "data={\"pt\":[], \"em\":1, \"icu\":3, \"gen\":5, \"dr\":5}"
      ],
      "metadata": {
        "id": "yIPJDkt6Zweo"
      },
      "execution_count": null,
      "outputs": []
    },
    {
      "cell_type": "code",
      "source": [
        "#hospital management system by Prathamesh Kadam\n",
        "class hospital:\n",
        "  def __init__(self,data):\n",
        "    self.data=data\n",
        "  def appointment(self,bed):\n",
        "    if self.data[\"dr\"] > 0:\n",
        "      if self.data[bed] >0:\n",
        "        name=input(\"Please enter your name\")\n",
        "        age=int(input(\"enter your age\"))\n",
        "        pt_dt={\"name\":name, \"age\":age ,\"status\":\"hospitalized\", \"bed\":bed  }\n",
        "        self.data[\"pt\"].append(pt_dt)\n",
        "        self.data[\"dr\"]=self.data[\"dr\"]-1\n",
        "        self.data[bed]=self.data[bed]-1\n",
        "        print(self.data)\n",
        "      else:\n",
        "        print(\"No bed available\")  \n",
        "    else:\n",
        "      print(\"no doctors available\")\n",
        "      \n",
        "  def discharge(self,name):\n",
        "    for i in self.data[\"pt\"]:\n",
        "      if i[\"name\"]==name:\n",
        "        self.data[\"pt\"].remove(i) \n",
        "        self.data[\"dr\"]=self.data[\"dr\"]+1\n",
        "        self.data[i[\"bed\"]]=self.data[i[\"bed\"]]+1\n",
        "        print(self.data)\n",
        "      else:\n",
        "        print(\"Patient not available\")  \n",
        "\n",
        "  def status(self,name):\n",
        "    for i in self.data[\"pt\"]:\n",
        "      if i[\"name\"]==name:\n",
        "        print(i[\"status\"])\n",
        "      else:\n",
        "        print(\"Patient not available\")  "
      ],
      "metadata": {
        "id": "Of7WqkU7O2Kf"
      },
      "execution_count": null,
      "outputs": []
    },
    {
      "cell_type": "code",
      "source": [
        "z=True\n",
        "while z==True:\n",
        "  print(\"Welcome to hospital management system\")\n",
        "  print(\"What would you like to do\")\n",
        "  print(\"\\n 1- book an appointment \\n 2- advice to the the patient \\n 3- status of patient \\n 4- close the program\" )\n",
        "  option=int(input())\n",
        "  hp=hospital(data)\n",
        "  if option==1:\n",
        "     print(\"Please select a ward\")\n",
        "     print(\"\\n 1- icu \\n 2- emergency \\n 3- general\" )\n",
        "     bed=int(input(\"Please select\"))\n",
        "     if bed==1:\n",
        "       hp.appointment(\"icu\")\n",
        "     elif bed==2:\n",
        "       hp.appointment(\"em\")\n",
        "     elif bed==3:\n",
        "       hp.appointment(\"gen\")  \n",
        "     else:\n",
        "       print(\"Invalid option\") \n",
        "  elif option==2:\n",
        "     name=input(\"please enter name\")\n",
        "     hp.discharge(name)\n",
        "  elif option==3:\n",
        "     name=input(\"please enter name\")\n",
        "     hp.status(name)\n",
        "  elif option==4:\n",
        "     z=False\n",
        "     print(\"application closed\")  \n",
        "  else:\n",
        "    print(\"Invalid option\")   \n",
        "\n",
        "\n",
        "\n",
        "\n",
        "\n",
        "\n",
        "\n",
        " \n"
      ],
      "metadata": {
        "colab": {
          "base_uri": "https://localhost:8080/",
          "height": 762
        },
        "id": "IR_MR5j5Ry6W",
        "outputId": "22acc16c-926a-4046-df97-39c019a232a9"
      },
      "execution_count": 175,
      "outputs": [
        {
          "metadata": {
            "tags": null
          },
          "name": "stdout",
          "output_type": "stream",
          "text": [
            "Welcome to hospital management system\n",
            "What would you like to do\n",
            "\n",
            " 1- book an appointment \n",
            " 2- advice to the the patient \n",
            " 3- status of patient \n",
            " 4- close the program\n",
            "Please select a ward\n",
            "\n",
            " 1- icu \n",
            " 2- emergency \n",
            " 3- general\n",
            "{'pt': [{'name': 'atish', 'age': 34, 'status': 'hospitalized', 'bed': 'gen'}], 'em': 1, 'icu': 3, 'gen': 4, 'dr': 4}\n",
            "Welcome to hospital management system\n",
            "What would you like to do\n",
            "\n",
            " 1- book an appointment \n",
            " 2- advice to the the patient \n",
            " 3- status of patient \n",
            " 4- close the program\n"
          ]
        },
        {
          "output_type": "error",
          "ename": "KeyboardInterrupt",
          "evalue": "ignored",
          "traceback": [
            "\u001b[0;31m---------------------------------------------------------------------------\u001b[0m",
            "\u001b[0;31mKeyboardInterrupt\u001b[0m                         Traceback (most recent call last)",
            "\u001b[0;32m<ipython-input-175-1ce03a2959aa>\u001b[0m in \u001b[0;36m<module>\u001b[0;34m\u001b[0m\n\u001b[1;32m      4\u001b[0m   \u001b[0mprint\u001b[0m\u001b[0;34m(\u001b[0m\u001b[0;34m\"What would you like to do\"\u001b[0m\u001b[0;34m)\u001b[0m\u001b[0;34m\u001b[0m\u001b[0;34m\u001b[0m\u001b[0m\n\u001b[1;32m      5\u001b[0m   \u001b[0mprint\u001b[0m\u001b[0;34m(\u001b[0m\u001b[0;34m\"\\n 1- book an appointment \\n 2- advice to the the patient \\n 3- status of patient \\n 4- close the program\"\u001b[0m \u001b[0;34m)\u001b[0m\u001b[0;34m\u001b[0m\u001b[0;34m\u001b[0m\u001b[0m\n\u001b[0;32m----> 6\u001b[0;31m   \u001b[0moption\u001b[0m\u001b[0;34m=\u001b[0m\u001b[0mint\u001b[0m\u001b[0;34m(\u001b[0m\u001b[0minput\u001b[0m\u001b[0;34m(\u001b[0m\u001b[0;34m)\u001b[0m\u001b[0;34m)\u001b[0m\u001b[0;34m\u001b[0m\u001b[0;34m\u001b[0m\u001b[0m\n\u001b[0m\u001b[1;32m      7\u001b[0m   \u001b[0mhp\u001b[0m\u001b[0;34m=\u001b[0m\u001b[0mhospital\u001b[0m\u001b[0;34m(\u001b[0m\u001b[0mdata\u001b[0m\u001b[0;34m)\u001b[0m\u001b[0;34m\u001b[0m\u001b[0;34m\u001b[0m\u001b[0m\n\u001b[1;32m      8\u001b[0m   \u001b[0;32mif\u001b[0m \u001b[0moption\u001b[0m\u001b[0;34m==\u001b[0m\u001b[0;36m1\u001b[0m\u001b[0;34m:\u001b[0m\u001b[0;34m\u001b[0m\u001b[0;34m\u001b[0m\u001b[0m\n",
            "\u001b[0;32m/usr/local/lib/python3.8/dist-packages/ipykernel/kernelbase.py\u001b[0m in \u001b[0;36mraw_input\u001b[0;34m(self, prompt)\u001b[0m\n\u001b[1;32m    858\u001b[0m                 \u001b[0;34m\"raw_input was called, but this frontend does not support input requests.\"\u001b[0m\u001b[0;34m\u001b[0m\u001b[0;34m\u001b[0m\u001b[0m\n\u001b[1;32m    859\u001b[0m             )\n\u001b[0;32m--> 860\u001b[0;31m         return self._input_request(str(prompt),\n\u001b[0m\u001b[1;32m    861\u001b[0m             \u001b[0mself\u001b[0m\u001b[0;34m.\u001b[0m\u001b[0m_parent_ident\u001b[0m\u001b[0;34m,\u001b[0m\u001b[0;34m\u001b[0m\u001b[0;34m\u001b[0m\u001b[0m\n\u001b[1;32m    862\u001b[0m             \u001b[0mself\u001b[0m\u001b[0;34m.\u001b[0m\u001b[0m_parent_header\u001b[0m\u001b[0;34m,\u001b[0m\u001b[0;34m\u001b[0m\u001b[0;34m\u001b[0m\u001b[0m\n",
            "\u001b[0;32m/usr/local/lib/python3.8/dist-packages/ipykernel/kernelbase.py\u001b[0m in \u001b[0;36m_input_request\u001b[0;34m(self, prompt, ident, parent, password)\u001b[0m\n\u001b[1;32m    902\u001b[0m             \u001b[0;32mexcept\u001b[0m \u001b[0mKeyboardInterrupt\u001b[0m\u001b[0;34m:\u001b[0m\u001b[0;34m\u001b[0m\u001b[0;34m\u001b[0m\u001b[0m\n\u001b[1;32m    903\u001b[0m                 \u001b[0;31m# re-raise KeyboardInterrupt, to truncate traceback\u001b[0m\u001b[0;34m\u001b[0m\u001b[0;34m\u001b[0m\u001b[0;34m\u001b[0m\u001b[0m\n\u001b[0;32m--> 904\u001b[0;31m                 \u001b[0;32mraise\u001b[0m \u001b[0mKeyboardInterrupt\u001b[0m\u001b[0;34m(\u001b[0m\u001b[0;34m\"Interrupted by user\"\u001b[0m\u001b[0;34m)\u001b[0m \u001b[0;32mfrom\u001b[0m \u001b[0;32mNone\u001b[0m\u001b[0;34m\u001b[0m\u001b[0;34m\u001b[0m\u001b[0m\n\u001b[0m\u001b[1;32m    905\u001b[0m             \u001b[0;32mexcept\u001b[0m \u001b[0mException\u001b[0m \u001b[0;32mas\u001b[0m \u001b[0me\u001b[0m\u001b[0;34m:\u001b[0m\u001b[0;34m\u001b[0m\u001b[0;34m\u001b[0m\u001b[0m\n\u001b[1;32m    906\u001b[0m                 \u001b[0mself\u001b[0m\u001b[0;34m.\u001b[0m\u001b[0mlog\u001b[0m\u001b[0;34m.\u001b[0m\u001b[0mwarning\u001b[0m\u001b[0;34m(\u001b[0m\u001b[0;34m\"Invalid Message:\"\u001b[0m\u001b[0;34m,\u001b[0m \u001b[0mexc_info\u001b[0m\u001b[0;34m=\u001b[0m\u001b[0;32mTrue\u001b[0m\u001b[0;34m)\u001b[0m\u001b[0;34m\u001b[0m\u001b[0;34m\u001b[0m\u001b[0m\n",
            "\u001b[0;31mKeyboardInterrupt\u001b[0m: Interrupted by user"
          ]
        }
      ]
    },
    {
      "cell_type": "code",
      "source": [],
      "metadata": {
        "id": "mS0fBrt9YpB1"
      },
      "execution_count": null,
      "outputs": []
    },
    {
      "cell_type": "markdown",
      "source": [],
      "metadata": {
        "id": "27lHcc3xOq5Y"
      }
    }
  ]
}